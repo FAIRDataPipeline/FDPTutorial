{
 "cells": [
  {
   "cell_type": "code",
   "execution_count": null,
   "id": "453e8d73-8c0b-4d21-a9c5-e02dfe1b851a",
   "metadata": {},
   "outputs": [],
   "source": [
    "# Clone the simple model repo\n",
    "!git clone https://github.com/FAIRDataPipeline/pySimpleModel.git"
   ]
  },
  {
   "cell_type": "code",
   "execution_count": null,
   "id": "27a91d14-2e2f-49db-b23b-e8dc4f0144c1",
   "metadata": {},
   "outputs": [],
   "source": [
    "# Install the simple model\n",
    "import sys\n",
    "!{sys.executable} -m pip install ./pySimpleModel"
   ]
  },
  {
   "cell_type": "code",
   "execution_count": null,
   "id": "eb81d1e5-c12b-4c4f-9198-d8d623031c98",
   "metadata": {},
   "outputs": [],
   "source": [
    "# Change into the Python Simple Model Directory\n",
    "import os\n",
    "os.chdir('pySimpleModel')"
   ]
  },
  {
   "cell_type": "code",
   "execution_count": null,
   "id": "df176b5a",
   "metadata": {},
   "outputs": [],
   "source": [
    "# Initialise a 'fair' repository for local use without user prompts\n",
    "!fair init --ci --local --debug"
   ]
  },
  {
   "cell_type": "code",
   "execution_count": null,
   "id": "c6c70c64-ba37-485c-a0c3-e553931abcb4",
   "metadata": {},
   "outputs": [],
   "source": [
    "# Register the data product from the Config Yaml\n",
    "!fair pull --debug --local simpleModel/ext/SEIRSconfig.yaml"
   ]
  },
  {
   "cell_type": "code",
   "execution_count": null,
   "id": "ae7c76de-fd4b-44a3-b692-3bbe40c1493e",
   "metadata": {},
   "outputs": [],
   "source": [
    "# Run the Python Simple Model as define in the Config Yaml\n",
    "!fair run --debug --local simpleModel/ext/SEIRSconfig.yaml"
   ]
  }
 ],
 "metadata": {
  "kernelspec": {
   "display_name": "Python 3 (ipykernel)",
   "language": "python",
   "name": "python3"
  },
  "language_info": {
   "codemirror_mode": {
    "name": "ipython",
    "version": 3
   },
   "file_extension": ".py",
   "mimetype": "text/x-python",
   "name": "python",
   "nbconvert_exporter": "python",
   "pygments_lexer": "ipython3",
   "version": "3.10.5"
  },
  "vscode": {
   "interpreter": {
    "hash": "b0fa6594d8f4cbf19f97940f81e996739fb7646882a419484c72d19e05852a7e"
   }
  }
 },
 "nbformat": 4,
 "nbformat_minor": 5
}
