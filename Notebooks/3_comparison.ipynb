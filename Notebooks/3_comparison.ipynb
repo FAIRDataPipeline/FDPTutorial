{
 "cells": [
  {
   "cell_type": "code",
   "execution_count": null,
   "id": "c9e08103-e3c4-4c59-8451-945689d18e91",
   "metadata": {},
   "outputs": [],
   "source": [
    "# Change into the R Simple Model Directory\n",
    "import os\n",
    "\n",
    "os.chdir(\"rSimpleModel\")"
   ]
  },
  {
   "cell_type": "code",
   "execution_count": null,
   "id": "37b4f76d-20a6-49fd-90b2-c744e63de39b",
   "metadata": {},
   "outputs": [],
   "source": [
    "# Run the Comparison Model as define in the Config Yaml\n",
    "! fair run --local inst/extdata/COMPAREconfig.yaml"
   ]
  }
 ],
 "metadata": {
  "kernelspec": {
   "display_name": "Python 3 (ipykernel)",
   "language": "python",
   "name": "python3"
  },
  "language_info": {
   "codemirror_mode": {
    "name": "ipython",
    "version": 3
   },
   "file_extension": ".py",
   "mimetype": "text/x-python",
   "name": "python",
   "nbconvert_exporter": "python",
   "pygments_lexer": "ipython3",
   "version": "3.10.5"
  }
 },
 "nbformat": 4,
 "nbformat_minor": 5
}
