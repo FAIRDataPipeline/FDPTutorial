{
 "cells": [
  {
   "cell_type": "code",
   "execution_count": null,
   "id": "caf1d8b8-3d2e-4646-b64a-fa3f42b955d6",
   "metadata": {},
   "outputs": [],
   "source": [
    "setwd(\"rSimpleModel\")"
   ]
  },
  {
   "cell_type": "code",
   "execution_count": null,
   "id": "e995a0c1-c702-4908-9e7d-ea9d75bc2bcd",
   "metadata": {},
   "outputs": [],
   "source": [
    "system(\"fair init --ci\", intern = T)"
   ]
  },
  {
   "cell_type": "code",
   "execution_count": null,
   "id": "33b85e52-4d9f-4c02-8319-a6610e5a36e5",
   "metadata": {},
   "outputs": [],
   "source": [
    "system(\"fair pull --debug inst/extdata/SEIRSconfig.yaml\", intern = T)"
   ]
  },
  {
   "cell_type": "code",
   "execution_count": null,
   "id": "44f20635-b8db-4181-a50a-192cf97eef04",
   "metadata": {},
   "outputs": [],
   "source": [
    "system(\"fair run --debug inst/extdata/SEIRSconfig.yaml\", intern = T)"
   ]
  }
 ],
 "metadata": {
  "kernelspec": {
   "display_name": "R",
   "language": "R",
   "name": "ir"
  },
  "language_info": {
   "codemirror_mode": "r",
   "file_extension": ".r",
   "mimetype": "text/x-r-source",
   "name": "R",
   "pygments_lexer": "r",
   "version": "4.1.3"
  }
 },
 "nbformat": 4,
 "nbformat_minor": 5
}
