{
 "cells": [
  {
   "cell_type": "code",
   "execution_count": null,
   "id": "529f5198-37b9-4d02-bc0b-72797f7ffd37",
   "metadata": {},
   "outputs": [],
   "source": [
    "cd(\"DataPipeline.jl\")"
   ]
  },
  {
   "cell_type": "code",
   "execution_count": null,
   "id": "6d4f6975-9abf-4eaa-ad87-7a1f5e6034e2",
   "metadata": {},
   "outputs": [],
   "source": [
    "; fair init --ci"
   ]
  },
  {
   "cell_type": "code",
   "execution_count": null,
   "id": "5ecadb76-1e72-4920-b2cd-0b8e103c4723",
   "metadata": {},
   "outputs": [],
   "source": [
    "; fair pull --debug examples/fdp/SEIRSconfig.yaml"
   ]
  },
  {
   "cell_type": "code",
   "execution_count": null,
   "id": "dca5752e-8dd3-4eeb-a2d9-969f67453470",
   "metadata": {},
   "outputs": [],
   "source": [
    "; fair run --debug examples/fdp/SEIRSconfig.yaml"
   ]
  }
 ],
 "metadata": {
  "kernelspec": {
   "display_name": "Julia 1.7.3",
   "language": "julia",
   "name": "julia-1.7"
  },
  "language_info": {
   "file_extension": ".jl",
   "mimetype": "application/julia",
   "name": "julia",
   "version": "1.7.3"
  }
 },
 "nbformat": 4,
 "nbformat_minor": 5
}
